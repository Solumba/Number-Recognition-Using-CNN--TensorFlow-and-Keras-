{
 "cells": [
  {
   "cell_type": "code",
   "execution_count": 11,
   "metadata": {},
   "outputs": [],
   "source": [
    "import tensorflow as tf\n",
    "import numpy as np\n",
    "import cv2\n",
    "import matplotlib.pyplot as plt"
   ]
  },
  {
   "cell_type": "code",
   "execution_count": 12,
   "metadata": {},
   "outputs": [
    {
     "name": "stdout",
     "output_type": "stream",
     "text": [
      "Epoch 1/5\n",
      "1688/1688 [==============================] - 38s 22ms/step - loss: 0.1433 - accuracy: 0.9557 - val_loss: 0.0507 - val_accuracy: 0.9842\n",
      "Epoch 2/5\n",
      "1688/1688 [==============================] - 36s 21ms/step - loss: 0.0486 - accuracy: 0.9853 - val_loss: 0.0388 - val_accuracy: 0.9885\n",
      "Epoch 3/5\n",
      "1688/1688 [==============================] - 39s 23ms/step - loss: 0.0321 - accuracy: 0.9896 - val_loss: 0.0342 - val_accuracy: 0.9918\n",
      "Epoch 4/5\n",
      "1688/1688 [==============================] - 37s 22ms/step - loss: 0.0246 - accuracy: 0.9921 - val_loss: 0.0370 - val_accuracy: 0.9908\n",
      "Epoch 5/5\n",
      "1688/1688 [==============================] - 38s 22ms/step - loss: 0.0174 - accuracy: 0.9946 - val_loss: 0.0383 - val_accuracy: 0.9907\n",
      "Epoch 1/5\n",
      "1688/1688 [==============================] - 39s 23ms/step - loss: 0.0137 - accuracy: 0.9954 - val_loss: 0.0357 - val_accuracy: 0.9922\n",
      "Epoch 2/5\n",
      "1688/1688 [==============================] - 38s 23ms/step - loss: 0.0123 - accuracy: 0.9956 - val_loss: 0.0469 - val_accuracy: 0.9890\n",
      "Epoch 3/5\n",
      "1688/1688 [==============================] - 39s 23ms/step - loss: 0.0093 - accuracy: 0.9968 - val_loss: 0.0370 - val_accuracy: 0.9925\n",
      "Epoch 4/5\n",
      "1688/1688 [==============================] - 40s 23ms/step - loss: 0.0080 - accuracy: 0.9970 - val_loss: 0.0470 - val_accuracy: 0.9912\n",
      "Epoch 5/5\n",
      "1688/1688 [==============================] - 40s 24ms/step - loss: 0.0059 - accuracy: 0.9978 - val_loss: 0.0458 - val_accuracy: 0.9912\n",
      "✅ Model saved as digit_model.h5\n",
      "313/313 [==============================] - 3s 10ms/step - loss: 0.0375 - accuracy: 0.9908\n",
      "\n",
      "Test accuracy: 0.99\n"
     ]
    },
    {
     "data": {
      "image/png": "[encoded data removed]",
      "text/plain": [
       "<Figure size 640x480 with 1 Axes>"
      ]
     },
     "metadata": {},
     "output_type": "display_data"
    },
    {
     "name": "stdout",
     "output_type": "stream",
     "text": [
      "1/1 [==============================] - 0s 139ms/step\n",
      "Predicted digit: 7\n"
     ]
    }
   ],
   "source": [
    "\n",
    "# Step 1: Load the MNIST dataset\n",
    "mnist = tf.keras.datasets.mnist\n",
    "(x_train, y_train), (x_test, y_test) = mnist.load_data()\n",
    "\n",
    "# Step 2: Preprocess the data\n",
    "x_train = x_train / 255.0  # Normalize to 0-1\n",
    "x_test = x_test / 255.0\n",
    "\n",
    "# Reshape for CNN input (batch_size, height, width, channels)\n",
    "x_train = x_train.reshape(-1, 28, 28, 1)\n",
    "x_test = x_test.reshape(-1, 28, 28, 1)\n",
    "\n",
    "# Step 3: Build the CNN model\n",
    "model = tf.keras.Sequential([\n",
    "    tf.keras.layers.Conv2D(32, kernel_size=(3,3), activation='relu', input_shape=(28,28,1)),\n",
    "    tf.keras.layers.MaxPooling2D(pool_size=(2,2)),\n",
    "    tf.keras.layers.Conv2D(64, kernel_size=(3,3), activation='relu'),\n",
    "    tf.keras.layers.MaxPooling2D(pool_size=(2,2)),\n",
    "    tf.keras.layers.Flatten(),\n",
    "    tf.keras.layers.Dense(64, activation='relu'),\n",
    "    tf.keras.layers.Dense(10, activation='softmax')  # 10 classes for digits 0-9\n",
    "])\n",
    "\n",
    "# Step 4: Compile the model\n",
    "model.compile(optimizer='adam',\n",
    "              loss='sparse_categorical_crossentropy',\n",
    "              metrics=['accuracy'])\n",
    "\n",
    "# Step 5: Train the model\n",
    "model.fit(x_train, y_train, epochs=5, validation_split=0.1)\n",
    "\n",
    "# After training the model\n",
    "model.fit(x_train, y_train, epochs=5, validation_split=0.1)\n",
    "\n",
    "# Save the trained model to a file\n",
    "model.save(\"digit_model.h5\")\n",
    "print(\"✅ Model saved as digit_model.h5\")\n",
    "\n",
    "# Step 6: Evaluate the model\n",
    "test_loss, test_acc = model.evaluate(x_test, y_test)\n",
    "print(f\"\\nTest accuracy: {test_acc:.2f}\")\n",
    "\n",
    "# Step 7: Predict a sample digit\n",
    "index = 0  # pick any digit from test set\n",
    "plt.imshow(x_test[index].reshape(28,28), cmap='gray')\n",
    "plt.title(\"Actual Label: {}\".format(y_test[index]))\n",
    "plt.show()\n",
    "\n",
    "prediction = model.predict(np.expand_dims(x_test[index], axis=0))\n",
    "print(f\"Predicted digit: {np.argmax(prediction)}\")\n"
   ]
  }
 ],
 "metadata": {
  "kernelspec": {
   "display_name": "Python 3",
   "language": "python",
   "name": "python3"
  },
  "language_info": {
   "codemirror_mode": {
    "name": "ipython",
    "version": 3
   },
   "file_extension": ".py",
   "mimetype": "text/x-python",
   "name": "python",
   "nbconvert_exporter": "python",
   "pygments_lexer": "ipython3",
   "version": "3.10.11"
  }
 },
 "nbformat": 4,
 "nbformat_minor": 2
}
