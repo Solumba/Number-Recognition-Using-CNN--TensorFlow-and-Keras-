{
 "cells": [
  {
   "cell_type": "code",
   "execution_count": 2,
   "metadata": {},
   "outputs": [],
   "source": [
    "import tensorflow as tf\n",
    "import numpy as np\n",
    "import cv2\n",
    "import matplotlib.pyplot as plt"
   ]
  },
  {
   "cell_type": "markdown",
   "metadata": {},
   "source": [
    "<h4>Load the MNIST dataset and split into training and test sets</h4>"
   ]
  },
  {
   "cell_type": "code",
   "execution_count": 4,
   "metadata": {},
   "outputs": [
    {
     "name": "stdout",
     "output_type": "stream",
     "text": [
      "Epoch 1/5\n",
      "1688/1688 [==============================] - 27s 16ms/step - loss: 0.1531 - accuracy: 0.9529 - val_loss: 0.0488 - val_accuracy: 0.9855\n",
      "Epoch 2/5\n",
      "1688/1688 [==============================] - 29s 17ms/step - loss: 0.0525 - accuracy: 0.9835 - val_loss: 0.0436 - val_accuracy: 0.9872\n",
      "Epoch 3/5\n",
      "1688/1688 [==============================] - 28s 17ms/step - loss: 0.0375 - accuracy: 0.9879 - val_loss: 0.0391 - val_accuracy: 0.9892\n",
      "Epoch 4/5\n",
      "1688/1688 [==============================] - 28s 16ms/step - loss: 0.0273 - accuracy: 0.9912 - val_loss: 0.0435 - val_accuracy: 0.9893\n",
      "Epoch 5/5\n",
      "1688/1688 [==============================] - 33s 19ms/step - loss: 0.0196 - accuracy: 0.9938 - val_loss: 0.0442 - val_accuracy: 0.9868\n",
      "Epoch 1/5\n",
      "1688/1688 [==============================] - 33s 20ms/step - loss: 0.0154 - accuracy: 0.9951 - val_loss: 0.0399 - val_accuracy: 0.9890\n",
      "Epoch 2/5\n",
      "1688/1688 [==============================] - 39s 23ms/step - loss: 0.0133 - accuracy: 0.9955 - val_loss: 0.0468 - val_accuracy: 0.9908\n",
      "Epoch 3/5\n",
      "1688/1688 [==============================] - 29s 17ms/step - loss: 0.0104 - accuracy: 0.9963 - val_loss: 0.0388 - val_accuracy: 0.9918\n",
      "Epoch 4/5\n",
      "1688/1688 [==============================] - 30s 18ms/step - loss: 0.0091 - accuracy: 0.9968 - val_loss: 0.0445 - val_accuracy: 0.9900\n",
      "Epoch 5/5\n",
      "1688/1688 [==============================] - 32s 19ms/step - loss: 0.0075 - accuracy: 0.9977 - val_loss: 0.0480 - val_accuracy: 0.9903\n",
      "Model saved as digit_model.h5\n",
      "313/313 [==============================] - 2s 6ms/step - loss: 0.0352 - accuracy: 0.9897\n",
      "\n",
      "Test accuracy: 0.99\n"
     ]
    },
    {
     "data": {
      "image/png": "[encoded data removed]",
      "text/plain": [
       "<Figure size 640x480 with 1 Axes>"
      ]
     },
     "metadata": {},
     "output_type": "display_data"
    },
    {
     "name": "stdout",
     "output_type": "stream",
     "text": [
      "1/1 [==============================] - 0s 98ms/step\n",
      "Predicted digit: 2\n"
     ]
    }
   ],
   "source": [
    "\n",
    "#Loading the MNIST dataset\n",
    "mnist = tf.keras.datasets.mnist\n",
    "(x_train, y_train), (x_test, y_test) = mnist.load_data()\n",
    "\n",
    "#Preprocess the data\n",
    "x_train = x_train / 255.0  # Normalize to 0-1\n",
    "x_test = x_test / 255.0\n",
    "\n",
    "# Reshape for CNN input (batch_size, height, width, channels)\n",
    "x_train = x_train.reshape(-1, 28, 28, 1)\n",
    "x_test = x_test.reshape(-1, 28, 28, 1)\n",
    "\n",
    "# Step 3: Build the CNN model\n",
    "model = tf.keras.Sequential([\n",
    "    tf.keras.layers.Conv2D(32, kernel_size=(3,3), activation='relu', input_shape=(28,28,1)),\n",
    "    tf.keras.layers.MaxPooling2D(pool_size=(2,2)),\n",
    "    tf.keras.layers.Conv2D(64, kernel_size=(3,3), activation='relu'),\n",
    "    tf.keras.layers.MaxPooling2D(pool_size=(2,2)),\n",
    "    tf.keras.layers.Flatten(),\n",
    "    tf.keras.layers.Dense(64, activation='relu'),\n",
    "    tf.keras.layers.Dense(10, activation='softmax')  # 10 classes for digits 0-9\n",
    "])\n",
    "\n",
    "# Step 4: Compile the model\n",
    "model.compile(optimizer='adam',\n",
    "              loss='sparse_categorical_crossentropy',\n",
    "              metrics=['accuracy'])\n",
    "\n",
    "# Step 5: Train the model\n",
    "model.fit(x_train, y_train, epochs=5, validation_split=0.1)\n",
    "\n",
    "# After training the model\n",
    "model.fit(x_train, y_train, epochs=5, validation_split=0.1)\n",
    "\n",
    "# Save the trained model to a file\n",
    "model.save(\"digit_model.h5\")\n",
    "print(\"Model saved as digit_model.h5\")\n",
    "\n",
    "# Step 6: Evaluate the model\n",
    "test_loss, test_acc = model.evaluate(x_test, y_test)\n",
    "print(f\"\\nTest accuracy: {test_acc:.2f}\")\n",
    "\n",
    "# Step 7: Predict a sample digit\n",
    "index = 1  # pick any digit from test set\n",
    "plt.imshow(x_test[index].reshape(28,28), cmap='gray')\n",
    "plt.title(\"Actual Label: {}\".format(y_test[index]))\n",
    "plt.show()\n",
    "\n",
    "prediction = model.predict(np.expand_dims(x_test[index], axis=0))\n",
    "print(f\"Predicted digit: {np.argmax(prediction)}\")\n"
   ]
  }
 ],
 "metadata": {
  "kernelspec": {
   "display_name": "Python 3",
   "language": "python",
   "name": "python3"
  },
  "language_info": {
   "codemirror_mode": {
    "name": "ipython",
    "version": 3
   },
   "file_extension": ".py",
   "mimetype": "text/x-python",
   "name": "python",
   "nbconvert_exporter": "python",
   "pygments_lexer": "ipython3",
   "version": "3.10.11"
  }
 },
 "nbformat": 4,
 "nbformat_minor": 2
}
